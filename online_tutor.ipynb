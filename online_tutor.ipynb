{
 "cells": [
  {
   "cell_type": "markdown",
   "metadata": {},
   "source": [
    "### Jupyter notebook"
   ]
  },
  {
   "cell_type": "markdown",
   "metadata": {},
   "source": [
    "The jupyter notebook supports Latex. For example ```\"$\\Sigma_{i=1}^{N} 2^{-i} \\approx 1$\"``` renders correctly as:\n",
    "\n",
    "$\\Sigma_{i=1}^{N} 2^{-i} \\approx 1$"
   ]
  },
  {
   "cell_type": "markdown",
   "metadata": {},
   "source": [
    "The online python tutor may also be integrated with the jupyter notebook to demonstrate to newbies how python works. \n",
    "\n",
    "The following example will highlight this use case:"
   ]
  },
  {
   "cell_type": "code",
   "execution_count": 1,
   "metadata": {
    "collapsed": true
   },
   "outputs": [],
   "source": [
    "%load_ext tutormagic"
   ]
  },
  {
   "cell_type": "code",
   "execution_count": 4,
   "metadata": {
    "collapsed": false
   },
   "outputs": [
    {
     "data": {
      "text/html": [
       "\n",
       "        <iframe\n",
       "            width=\"100%\"\n",
       "            height=\"350\"\n",
       "            src=\"http://pythontutor.com/iframe-embed.html#code=%0Alist_a%20%3D%20%5B%22s%22%2C%201%2C%20%5B2%2C%20%225%22%5D%2C%20%22good%22%5D%0Alist_b%20%3D%20%5B23%2C%204%2C%20%2823%2C%2045%29%5D%0A%0A%23%20demonstrate%20aliasing%0Alist_c%20%3D%20list_a%0Alist_c.append%28%5B0%2C%201%2C%202%5D%29&origin=opt-frontend.js&cumulative=false&heapPrimitives=false&textReferences=false&py=3&rawInputLstJSON=%5B%5D&curInstr=0&codeDivWidth=50%25&codeDivHeight=100%25\"\n",
       "            frameborder=\"0\"\n",
       "            allowfullscreen\n",
       "        ></iframe>\n",
       "        "
      ],
      "text/plain": [
       "<IPython.lib.display.IFrame at 0x7efff411d5f8>"
      ]
     },
     "metadata": {},
     "output_type": "display_data"
    }
   ],
   "source": [
    "%%tutor --lang python3\n",
    "\n",
    "list_a = [\"s\", 1, [2, \"5\"], \"good\"]\n",
    "list_b = [23, 4, (23, 45)]\n",
    "\n",
    "# demonstrate aliasing\n",
    "list_c = list_a\n",
    "list_c.append([0, 1, 2])\n"
   ]
  },
  {
   "cell_type": "code",
   "execution_count": 5,
   "metadata": {
    "collapsed": false
   },
   "outputs": [
    {
     "data": {
      "text/html": [
       "\n",
       "        <iframe\n",
       "            width=\"100%\"\n",
       "            height=\"350\"\n",
       "            src=\"http://pythontutor.com/iframe-embed.html#code=%23%20demostrate%20frames%20of%20reference%0A%0Adef%20func1%28%29%3A%0A%20%20%20%20def%20func2%28%29%3A%0A%20%20%20%20%20%20%20%20return%20num1%20%2B%20num2%0A%20%20%20%20num1%20%3D%203%0A%20%20%20%20num2%20%3D%205%0A%20%20%20%20return%20func2%28%29%0A%0Afunc1%28%29&origin=opt-frontend.js&cumulative=false&heapPrimitives=false&textReferences=false&py=3&rawInputLstJSON=%5B%5D&curInstr=0&codeDivWidth=50%25&codeDivHeight=100%25\"\n",
       "            frameborder=\"0\"\n",
       "            allowfullscreen\n",
       "        ></iframe>\n",
       "        "
      ],
      "text/plain": [
       "<IPython.lib.display.IFrame at 0x7efff411da58>"
      ]
     },
     "metadata": {},
     "output_type": "display_data"
    }
   ],
   "source": [
    "%%tutor --lang python3\n",
    "# demostrate frames of reference\n",
    "\n",
    "def func1():\n",
    "    def func2():\n",
    "        return num1 + num2\n",
    "    num1 = 3\n",
    "    num2 = 5\n",
    "    return func2()\n",
    "\n",
    "func1()"
   ]
  },
  {
   "cell_type": "code",
   "execution_count": null,
   "metadata": {
    "collapsed": true
   },
   "outputs": [],
   "source": []
  }
 ],
 "metadata": {
  "kernelspec": {
   "display_name": "Python 3",
   "language": "python",
   "name": "python3"
  },
  "language_info": {
   "codemirror_mode": {
    "name": "ipython",
    "version": 3
   },
   "file_extension": ".py",
   "mimetype": "text/x-python",
   "name": "python",
   "nbconvert_exporter": "python",
   "pygments_lexer": "ipython3",
   "version": "3.5.2"
  }
 },
 "nbformat": 4,
 "nbformat_minor": 1
}
